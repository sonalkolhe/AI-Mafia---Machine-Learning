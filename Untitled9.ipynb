{
 "cells": [
  {
   "cell_type": "code",
   "execution_count": 1,
   "id": "ee204475",
   "metadata": {},
   "outputs": [],
   "source": [
    "import numpy as np"
   ]
  },
  {
   "cell_type": "code",
   "execution_count": 3,
   "id": "40340efe",
   "metadata": {},
   "outputs": [],
   "source": [
    "#creating array\n",
    "arr = np.array([[1,2,3],\n",
    "             [4,2,5]])"
   ]
  },
  {
   "cell_type": "code",
   "execution_count": 4,
   "id": "4bb420db",
   "metadata": {},
   "outputs": [
    {
     "data": {
      "text/plain": [
       "numpy.ndarray"
      ]
     },
     "execution_count": 4,
     "metadata": {},
     "output_type": "execute_result"
    }
   ],
   "source": [
    "# printing type of array\n",
    "type(arr)"
   ]
  },
  {
   "cell_type": "code",
   "execution_count": 5,
   "id": "20a94fae",
   "metadata": {},
   "outputs": [
    {
     "data": {
      "text/plain": [
       "2"
      ]
     },
     "execution_count": 5,
     "metadata": {},
     "output_type": "execute_result"
    }
   ],
   "source": [
    "#printing array dimensions(axes)\n",
    "arr.ndim"
   ]
  },
  {
   "cell_type": "code",
   "execution_count": 6,
   "id": "b7ceb9e6",
   "metadata": {},
   "outputs": [
    {
     "data": {
      "text/plain": [
       "(2, 3)"
      ]
     },
     "execution_count": 6,
     "metadata": {},
     "output_type": "execute_result"
    }
   ],
   "source": [
    "#printing shape of array\n",
    "arr.shape"
   ]
  },
  {
   "cell_type": "code",
   "execution_count": 7,
   "id": "63f38c0e",
   "metadata": {},
   "outputs": [
    {
     "data": {
      "text/plain": [
       "6"
      ]
     },
     "execution_count": 7,
     "metadata": {},
     "output_type": "execute_result"
    }
   ],
   "source": [
    "#printing total number of elements in array\n",
    "arr.size"
   ]
  },
  {
   "cell_type": "code",
   "execution_count": 8,
   "id": "21eef04f",
   "metadata": {},
   "outputs": [
    {
     "data": {
      "text/plain": [
       "dtype('int32')"
      ]
     },
     "execution_count": 8,
     "metadata": {},
     "output_type": "execute_result"
    }
   ],
   "source": [
    "#prining type of elements in array\n",
    "arr.dtype"
   ]
  },
  {
   "cell_type": "code",
   "execution_count": 14,
   "id": "09cdbec8",
   "metadata": {},
   "outputs": [],
   "source": [
    "#creating array from list with type float\n",
    "a = np.array([[1,2,4],[5,8,7]],dtype ='float')"
   ]
  },
  {
   "cell_type": "code",
   "execution_count": 15,
   "id": "8dbca2fb",
   "metadata": {},
   "outputs": [
    {
     "name": "stdout",
     "output_type": "stream",
     "text": [
      "[[1. 2. 4.]\n",
      " [5. 8. 7.]]\n"
     ]
    }
   ],
   "source": [
    "print(a)"
   ]
  },
  {
   "cell_type": "code",
   "execution_count": 16,
   "id": "3fa53115",
   "metadata": {},
   "outputs": [],
   "source": [
    "#create array from tuple\n",
    "b = np.array((1,3,2))"
   ]
  },
  {
   "cell_type": "code",
   "execution_count": 17,
   "id": "a2fb0b3f",
   "metadata": {},
   "outputs": [
    {
     "name": "stdout",
     "output_type": "stream",
     "text": [
      "[1 3 2]\n"
     ]
    }
   ],
   "source": [
    "print(b)"
   ]
  },
  {
   "cell_type": "code",
   "execution_count": 18,
   "id": "fc482d97",
   "metadata": {},
   "outputs": [],
   "source": [
    "#creating a  3* 4 array with all zeroes\n",
    "c = np.zeros((3,4))"
   ]
  },
  {
   "cell_type": "code",
   "execution_count": 19,
   "id": "fa36c6ed",
   "metadata": {},
   "outputs": [
    {
     "name": "stdout",
     "output_type": "stream",
     "text": [
      "[[0. 0. 0. 0.]\n",
      " [0. 0. 0. 0.]\n",
      " [0. 0. 0. 0.]]\n"
     ]
    }
   ],
   "source": [
    "print(c)"
   ]
  },
  {
   "cell_type": "code",
   "execution_count": 21,
   "id": "089fa4ce",
   "metadata": {},
   "outputs": [],
   "source": [
    "#create a constant  value array of complex type \n",
    "d = np.full((3,3),6)"
   ]
  },
  {
   "cell_type": "code",
   "execution_count": 22,
   "id": "6083fbfd",
   "metadata": {},
   "outputs": [
    {
     "name": "stdout",
     "output_type": "stream",
     "text": [
      "[[6 6 6]\n",
      " [6 6 6]\n",
      " [6 6 6]]\n"
     ]
    }
   ],
   "source": [
    "print(d)"
   ]
  },
  {
   "cell_type": "code",
   "execution_count": 23,
   "id": "70faa475",
   "metadata": {},
   "outputs": [],
   "source": [
    "#create an array with random values\n",
    "e = np.random.random((2,2))"
   ]
  },
  {
   "cell_type": "code",
   "execution_count": 24,
   "id": "43970dc0",
   "metadata": {},
   "outputs": [
    {
     "name": "stdout",
     "output_type": "stream",
     "text": [
      "[[0.54195385 0.50036047]\n",
      " [0.80473231 0.03424614]]\n"
     ]
    }
   ],
   "source": [
    "print(e)"
   ]
  },
  {
   "cell_type": "code",
   "execution_count": 26,
   "id": "860d6dbd",
   "metadata": {},
   "outputs": [],
   "source": [
    "#create a sequence of integers from 0 to 30  with steps of 5\n",
    "f = np.arange(0,30,5)"
   ]
  },
  {
   "cell_type": "code",
   "execution_count": 32,
   "id": "109995aa",
   "metadata": {},
   "outputs": [],
   "source": [
    "np.arange?\n"
   ]
  },
  {
   "cell_type": "code",
   "execution_count": 27,
   "id": "6a526bb8",
   "metadata": {},
   "outputs": [
    {
     "name": "stdout",
     "output_type": "stream",
     "text": [
      "[ 0  5 10 15 20 25]\n"
     ]
    }
   ],
   "source": [
    "print(f)"
   ]
  },
  {
   "cell_type": "code",
   "execution_count": 28,
   "id": "8aff3c6c",
   "metadata": {},
   "outputs": [],
   "source": [
    "#create a sequence of 10 values in range 0 to 5 \n",
    "g = np.linspace(0,5,10)"
   ]
  },
  {
   "cell_type": "code",
   "execution_count": 29,
   "id": "d341dd88",
   "metadata": {},
   "outputs": [
    {
     "name": "stdout",
     "output_type": "stream",
     "text": [
      "[0.         0.55555556 1.11111111 1.66666667 2.22222222 2.77777778\n",
      " 3.33333333 3.88888889 4.44444444 5.        ]\n"
     ]
    }
   ],
   "source": [
    "print(g)"
   ]
  },
  {
   "cell_type": "code",
   "execution_count": 30,
   "id": "54d613a8",
   "metadata": {},
   "outputs": [],
   "source": [
    "h = np.ones((3,3))"
   ]
  },
  {
   "cell_type": "code",
   "execution_count": 31,
   "id": "3566fb94",
   "metadata": {},
   "outputs": [
    {
     "name": "stdout",
     "output_type": "stream",
     "text": [
      "[[1. 1. 1.]\n",
      " [1. 1. 1.]\n",
      " [1. 1. 1.]]\n"
     ]
    }
   ],
   "source": [
    "print(h)"
   ]
  },
  {
   "cell_type": "code",
   "execution_count": 35,
   "id": "32dc4cc5",
   "metadata": {},
   "outputs": [],
   "source": [
    "np.eye?\n"
   ]
  },
  {
   "cell_type": "code",
   "execution_count": 39,
   "id": "ffd9e784",
   "metadata": {},
   "outputs": [],
   "source": [
    "#reshaping 3*4  array to 2*2*3 array \n",
    "arr12 = np.array([[1,2,3,4],\n",
    "                [5,8,9,4],\n",
    "                [7,0,3,2]\n",
    "                ])"
   ]
  },
  {
   "cell_type": "code",
   "execution_count": 40,
   "id": "781d339f",
   "metadata": {},
   "outputs": [],
   "source": [
    "newarr = arr12.reshape(2,2,3)"
   ]
  },
  {
   "cell_type": "code",
   "execution_count": 41,
   "id": "e439b312",
   "metadata": {},
   "outputs": [
    {
     "name": "stdout",
     "output_type": "stream",
     "text": [
      "[[[1 2 3]\n",
      "  [4 5 8]]\n",
      "\n",
      " [[9 4 7]\n",
      "  [0 3 2]]]\n"
     ]
    }
   ],
   "source": [
    "print(newarr)"
   ]
  },
  {
   "cell_type": "code",
   "execution_count": 42,
   "id": "69fed132",
   "metadata": {},
   "outputs": [
    {
     "name": "stdout",
     "output_type": "stream",
     "text": [
      "[[1 2 3 4]\n",
      " [5 8 9 4]\n",
      " [7 0 3 2]]\n"
     ]
    }
   ],
   "source": [
    "print(arr12)"
   ]
  },
  {
   "cell_type": "code",
   "execution_count": 43,
   "id": "b093abc6",
   "metadata": {},
   "outputs": [
    {
     "name": "stdout",
     "output_type": "stream",
     "text": [
      "[[[1 2 3]\n",
      "  [4 5 8]]\n",
      "\n",
      " [[9 4 7]\n",
      "  [0 3 2]]]\n"
     ]
    }
   ],
   "source": [
    "print(newarr)"
   ]
  },
  {
   "cell_type": "code",
   "execution_count": 44,
   "id": "5fb5970c",
   "metadata": {},
   "outputs": [],
   "source": [
    "#flatten array\n",
    "arr = np.array([[1,2,3],[4,5,6]])"
   ]
  },
  {
   "cell_type": "code",
   "execution_count": 45,
   "id": "6cfc27fb",
   "metadata": {},
   "outputs": [
    {
     "name": "stdout",
     "output_type": "stream",
     "text": [
      "[[1 2 3]\n",
      " [4 5 6]]\n"
     ]
    }
   ],
   "source": [
    "print(arr)"
   ]
  },
  {
   "cell_type": "code",
   "execution_count": 46,
   "id": "a39b8b36",
   "metadata": {},
   "outputs": [],
   "source": [
    "flarr = arr.flatten()"
   ]
  },
  {
   "cell_type": "code",
   "execution_count": 47,
   "id": "388d0683",
   "metadata": {},
   "outputs": [
    {
     "name": "stdout",
     "output_type": "stream",
     "text": [
      "[1 2 3 4 5 6]\n"
     ]
    }
   ],
   "source": [
    "print(flarr)"
   ]
  },
  {
   "cell_type": "code",
   "execution_count": null,
   "id": "9d04db16",
   "metadata": {},
   "outputs": [],
   "source": []
  },
  {
   "cell_type": "markdown",
   "id": "96e95537",
   "metadata": {},
   "source": [
    "# Array Indexing "
   ]
  },
  {
   "cell_type": "code",
   "execution_count": 48,
   "id": "bd45fd4f",
   "metadata": {},
   "outputs": [],
   "source": [
    "#example array\n",
    "arr = np.array([[-1,2,0,4],\n",
    "               [4,-0.5,6,0],\n",
    "               [2.6,0,7,8],\n",
    "               [3,-7,4,2.0]])"
   ]
  },
  {
   "cell_type": "code",
   "execution_count": 50,
   "id": "700db29f",
   "metadata": {},
   "outputs": [
    {
     "data": {
      "text/plain": [
       "array([[-1. ,  2. ,  0. ,  4. ],\n",
       "       [ 4. , -0.5,  6. ,  0. ],\n",
       "       [ 2.6,  0. ,  7. ,  8. ],\n",
       "       [ 3. , -7. ,  4. ,  2. ]])"
      ]
     },
     "execution_count": 50,
     "metadata": {},
     "output_type": "execute_result"
    }
   ],
   "source": [
    "arr"
   ]
  },
  {
   "cell_type": "code",
   "execution_count": 51,
   "id": "afc5ba3d",
   "metadata": {},
   "outputs": [
    {
     "data": {
      "text/plain": [
       "array([[ 4. , -0.5,  6. ],\n",
       "       [ 2.6,  0. ,  7. ],\n",
       "       [ 3. , -7. ,  4. ]])"
      ]
     },
     "execution_count": 51,
     "metadata": {},
     "output_type": "execute_result"
    }
   ],
   "source": [
    "arr[1:,  :3]"
   ]
  },
  {
   "cell_type": "code",
   "execution_count": 52,
   "id": "81351eea",
   "metadata": {},
   "outputs": [
    {
     "data": {
      "text/plain": [
       "array([[4. , 6. ],\n",
       "       [2.6, 7. ],\n",
       "       [3. , 4. ]])"
      ]
     },
     "execution_count": 52,
     "metadata": {},
     "output_type": "execute_result"
    }
   ],
   "source": [
    "arr[1:,  :3:2]"
   ]
  },
  {
   "cell_type": "code",
   "execution_count": 53,
   "id": "82b0a699",
   "metadata": {},
   "outputs": [],
   "source": [
    "#slicing\n",
    "temp = arr[:2 , ::2]\n"
   ]
  },
  {
   "cell_type": "code",
   "execution_count": 54,
   "id": "9025ae83",
   "metadata": {},
   "outputs": [
    {
     "data": {
      "text/plain": [
       "array([[-1.,  0.],\n",
       "       [ 4.,  6.]])"
      ]
     },
     "execution_count": 54,
     "metadata": {},
     "output_type": "execute_result"
    }
   ],
   "source": [
    "temp"
   ]
  },
  {
   "cell_type": "code",
   "execution_count": 55,
   "id": "7e139ef6",
   "metadata": {},
   "outputs": [],
   "source": [
    "#integer array indexing example\n",
    "temp1  = arr[[0 ,1 ,2 ,3 ],[3 ,2 ,1 ,0]]"
   ]
  },
  {
   "cell_type": "markdown",
   "id": "5a456be6",
   "metadata": {},
   "source": [
    "# Basic opeartions"
   ]
  },
  {
   "cell_type": "code",
   "execution_count": 61,
   "id": "91963172",
   "metadata": {},
   "outputs": [],
   "source": [
    "a = np.array([1,2,5,3])"
   ]
  },
  {
   "cell_type": "code",
   "execution_count": 62,
   "id": "995fad5a",
   "metadata": {},
   "outputs": [
    {
     "name": "stdout",
     "output_type": "stream",
     "text": [
      "[2 3 6 4]\n"
     ]
    }
   ],
   "source": [
    "print(a+1)"
   ]
  },
  {
   "cell_type": "code",
   "execution_count": 63,
   "id": "a1b40837",
   "metadata": {},
   "outputs": [
    {
     "name": "stdout",
     "output_type": "stream",
     "text": [
      "[0 1 4 2]\n"
     ]
    }
   ],
   "source": [
    "print(a-1)"
   ]
  },
  {
   "cell_type": "code",
   "execution_count": 64,
   "id": "2db552b1",
   "metadata": {},
   "outputs": [
    {
     "name": "stdout",
     "output_type": "stream",
     "text": [
      "[10 20 50 30]\n"
     ]
    }
   ],
   "source": [
    "print(a*10)"
   ]
  },
  {
   "cell_type": "code",
   "execution_count": 65,
   "id": "90d9f441",
   "metadata": {},
   "outputs": [
    {
     "name": "stdout",
     "output_type": "stream",
     "text": [
      "[ 1  4 25  9]\n"
     ]
    }
   ],
   "source": [
    "#squaring each element\n",
    "print(a**2)"
   ]
  },
  {
   "cell_type": "code",
   "execution_count": 66,
   "id": "dfbb543b",
   "metadata": {},
   "outputs": [],
   "source": [
    "#modify existing array\n",
    "a *= 2\n"
   ]
  },
  {
   "cell_type": "code",
   "execution_count": 67,
   "id": "dbb2ae19",
   "metadata": {},
   "outputs": [
    {
     "name": "stdout",
     "output_type": "stream",
     "text": [
      "[ 2  4 10  6]\n"
     ]
    }
   ],
   "source": [
    "print(a)"
   ]
  },
  {
   "cell_type": "code",
   "execution_count": 68,
   "id": "3a21136c",
   "metadata": {},
   "outputs": [],
   "source": [
    "#transpose of array\n",
    "a = np.array([[1,2,3],[4,5,6],[9,6,0]])"
   ]
  },
  {
   "cell_type": "code",
   "execution_count": 69,
   "id": "8a2a202a",
   "metadata": {},
   "outputs": [
    {
     "name": "stdout",
     "output_type": "stream",
     "text": [
      "[[1 2 3]\n",
      " [4 5 6]\n",
      " [9 6 0]]\n"
     ]
    }
   ],
   "source": [
    "print(a)"
   ]
  },
  {
   "cell_type": "code",
   "execution_count": 70,
   "id": "14597fda",
   "metadata": {},
   "outputs": [
    {
     "name": "stdout",
     "output_type": "stream",
     "text": [
      "[[1 4 9]\n",
      " [2 5 6]\n",
      " [3 6 0]]\n"
     ]
    }
   ],
   "source": [
    "print(a.T)"
   ]
  },
  {
   "cell_type": "markdown",
   "id": "a5185a33",
   "metadata": {},
   "source": [
    "# Unary operators:-\n",
    "                       many unary operations are provided as method of ndarray class.This includes sum , min,max,etc. \n",
    "                       This function can also be applied row-wise or column-wise by setting an axis parameter.\n",
    "                       "
   ]
  },
  {
   "cell_type": "code",
   "execution_count": 71,
   "id": "f38d13a5",
   "metadata": {},
   "outputs": [],
   "source": [
    "arr = np.array([[1,5,6],\n",
    "               [5,7,2],\n",
    "               [3,1,9]])"
   ]
  },
  {
   "cell_type": "code",
   "execution_count": 72,
   "id": "2eb8e33e",
   "metadata": {},
   "outputs": [
    {
     "name": "stdout",
     "output_type": "stream",
     "text": [
      "9\n"
     ]
    }
   ],
   "source": [
    "#maximum element of array\n",
    "print(arr.max())"
   ]
  },
  {
   "cell_type": "code",
   "execution_count": 73,
   "id": "3182e788",
   "metadata": {},
   "outputs": [
    {
     "name": "stdout",
     "output_type": "stream",
     "text": [
      "[6 7 9]\n"
     ]
    }
   ],
   "source": [
    "# row-wise maximum elemets\n",
    "print(arr.max(axis=1))"
   ]
  },
  {
   "cell_type": "code",
   "execution_count": 74,
   "id": "4a3affdf",
   "metadata": {},
   "outputs": [
    {
     "name": "stdout",
     "output_type": "stream",
     "text": [
      "[1 1 2]\n"
     ]
    }
   ],
   "source": [
    "#column-wise mim element\n",
    "print(arr.min(axis=0))"
   ]
  },
  {
   "cell_type": "code",
   "execution_count": 75,
   "id": "55869386",
   "metadata": {},
   "outputs": [
    {
     "name": "stdout",
     "output_type": "stream",
     "text": [
      "39\n"
     ]
    }
   ],
   "source": [
    "#sum of array elements\n",
    "print(arr.sum())"
   ]
  },
  {
   "cell_type": "code",
   "execution_count": 76,
   "id": "6f8ee6d6",
   "metadata": {},
   "outputs": [
    {
     "name": "stdout",
     "output_type": "stream",
     "text": [
      "[[ 1  6 12]\n",
      " [ 5 12 14]\n",
      " [ 3  4 13]]\n"
     ]
    }
   ],
   "source": [
    "#cumulative sum along each row [1 ,1+5, 1+5+6]\n",
    "print(arr.cumsum(axis=1))"
   ]
  },
  {
   "cell_type": "markdown",
   "id": "8e2400ad",
   "metadata": {},
   "source": [
    "# Binary Operators:\n",
    "                              These opeartions apply on  array  elementwise and a new array is created.You can use all basic operations like +,-,*,/ etc.In each case of +=,-=,*= operators,the existing array is modified."
   ]
  },
  {
   "cell_type": "code",
   "execution_count": 77,
   "id": "39916b7e",
   "metadata": {},
   "outputs": [],
   "source": [
    "#example\n",
    "a =np.array([[1,2],\n",
    "            [3,4]])\n",
    "b= np.array([[4,3],\n",
    "            [2,1]])"
   ]
  },
  {
   "cell_type": "code",
   "execution_count": 78,
   "id": "e6c1492a",
   "metadata": {},
   "outputs": [
    {
     "name": "stdout",
     "output_type": "stream",
     "text": [
      "[[5 5]\n",
      " [5 5]]\n"
     ]
    }
   ],
   "source": [
    "print(a+b)"
   ]
  },
  {
   "cell_type": "code",
   "execution_count": 79,
   "id": "2a7c5861",
   "metadata": {},
   "outputs": [
    {
     "name": "stdout",
     "output_type": "stream",
     "text": [
      "[[4 6]\n",
      " [6 4]]\n"
     ]
    }
   ],
   "source": [
    "#multiply arrays\n",
    "print(a*b)"
   ]
  },
  {
   "cell_type": "code",
   "execution_count": 80,
   "id": "1d7b95c3",
   "metadata": {},
   "outputs": [
    {
     "name": "stdout",
     "output_type": "stream",
     "text": [
      "[[ 8  5]\n",
      " [20 13]]\n"
     ]
    }
   ],
   "source": [
    "#matrix multiplication\n",
    "print(a.dot(b))"
   ]
  },
  {
   "cell_type": "markdown",
   "id": "357bfaf0",
   "metadata": {},
   "source": [
    "# Universal function:-\n",
    "                                    Numpy provides familiar mathematical functions such as sin ,cos etc.These functions also operate elementwise on array,producing an array as output.\n",
    "                                    \n",
    "                                    \n",
    "NOTE:- all the opeartions we did above  using overloaded operators can be done using ufunc like np.add,np.subtract,np.multiply,np.divide,np.sum."
   ]
  },
  {
   "cell_type": "code",
   "execution_count": 81,
   "id": "6078ed59",
   "metadata": {},
   "outputs": [],
   "source": [
    "#create an array of sine values\n",
    "a = np.array([0,np.pi/2, np.pi])"
   ]
  },
  {
   "cell_type": "code",
   "execution_count": 82,
   "id": "60b9a65e",
   "metadata": {},
   "outputs": [
    {
     "name": "stdout",
     "output_type": "stream",
     "text": [
      "[0.         1.57079633 3.14159265]\n"
     ]
    }
   ],
   "source": [
    "print(a)"
   ]
  },
  {
   "cell_type": "code",
   "execution_count": 83,
   "id": "98a6b37c",
   "metadata": {},
   "outputs": [],
   "source": [
    "#exponential value\n",
    "a = np.array([0,1,2,3])"
   ]
  },
  {
   "cell_type": "code",
   "execution_count": 84,
   "id": "d6b32cd6",
   "metadata": {},
   "outputs": [
    {
     "name": "stdout",
     "output_type": "stream",
     "text": [
      "[ 1.          2.71828183  7.3890561  20.08553692]\n"
     ]
    }
   ],
   "source": [
    "print(np.exp(a))"
   ]
  },
  {
   "cell_type": "code",
   "execution_count": 85,
   "id": "7af3df53",
   "metadata": {},
   "outputs": [
    {
     "name": "stdout",
     "output_type": "stream",
     "text": [
      "[0.         1.         1.41421356 1.73205081]\n"
     ]
    }
   ],
   "source": [
    "#square root of array values\n",
    "print(np.sqrt(a))"
   ]
  },
  {
   "cell_type": "markdown",
   "id": "3f2210a1",
   "metadata": {},
   "source": [
    "# Sorting array:-\n",
    "                            There is a simple np.sort method for sorting Numpy arrays."
   ]
  },
  {
   "cell_type": "code",
   "execution_count": 86,
   "id": "c1d04a9f",
   "metadata": {},
   "outputs": [],
   "source": [
    "a = np.array([[1,4,2],\n",
    "             [3,4,6],\n",
    "             [0,-1,5]])"
   ]
  },
  {
   "cell_type": "code",
   "execution_count": 87,
   "id": "4feb58e6",
   "metadata": {},
   "outputs": [
    {
     "name": "stdout",
     "output_type": "stream",
     "text": [
      "[-1  0  1  2  3  4  4  5  6]\n"
     ]
    }
   ],
   "source": [
    "#sorted array\n",
    "print(np.sort(a,axis = None))"
   ]
  },
  {
   "cell_type": "code",
   "execution_count": 88,
   "id": "f08ce531",
   "metadata": {},
   "outputs": [
    {
     "name": "stdout",
     "output_type": "stream",
     "text": [
      "[[ 1  2  4]\n",
      " [ 3  4  6]\n",
      " [-1  0  5]]\n"
     ]
    }
   ],
   "source": [
    "#sort array row-wise\n",
    "print(np.sort(a,axis=1))"
   ]
  },
  {
   "cell_type": "code",
   "execution_count": 89,
   "id": "f2f166e3",
   "metadata": {},
   "outputs": [
    {
     "name": "stdout",
     "output_type": "stream",
     "text": [
      "[[ 0 -1  2]\n",
      " [ 1  4  5]\n",
      " [ 3  4  6]]\n"
     ]
    }
   ],
   "source": [
    "#specify sort algorithm\n",
    "print(np.sort(a,axis=0,kind = 'mergesort'))"
   ]
  },
  {
   "cell_type": "markdown",
   "id": "91d0338a",
   "metadata": {},
   "source": [
    "# Stacking and Splitting:-\n",
    "                                            Several arrays can be stacked together along different axes.\n",
    "1]np.vstack = To stack arrays along vertical axis.\n",
    "2]np.hstack = To stack arrays along horizontal axis.\n",
    "3]np.column_stack = To stack 1-D arrays as columns into 2-D arrays.\n",
    "4]np.concatenate = To stack arrays along specified axis(axis is passed as an arguement).\n",
    "\n",
    "                        "
   ]
  },
  {
   "cell_type": "code",
   "execution_count": 90,
   "id": "965bc540",
   "metadata": {},
   "outputs": [],
   "source": [
    "a = np.array([[1,2],\n",
    "             [3,4]])\n",
    "b = np.array([[5,6],\n",
    "              [7,8]])"
   ]
  },
  {
   "cell_type": "code",
   "execution_count": 91,
   "id": "d50e6ee8",
   "metadata": {},
   "outputs": [
    {
     "name": "stdout",
     "output_type": "stream",
     "text": [
      "[[1 2]\n",
      " [3 4]\n",
      " [5 6]\n",
      " [7 8]]\n"
     ]
    }
   ],
   "source": [
    "#vertical stacking\n",
    "print(np.vstack((a,b)))"
   ]
  },
  {
   "cell_type": "code",
   "execution_count": 92,
   "id": "d296ac2a",
   "metadata": {},
   "outputs": [
    {
     "name": "stdout",
     "output_type": "stream",
     "text": [
      "[[1 2 5 6]\n",
      " [3 4 7 8]]\n"
     ]
    }
   ],
   "source": [
    "#horizontal stacking\n",
    "print(np.hstack((a,b)))"
   ]
  },
  {
   "cell_type": "code",
   "execution_count": 93,
   "id": "7ba6a276",
   "metadata": {},
   "outputs": [],
   "source": [
    "c=[5,6]"
   ]
  },
  {
   "cell_type": "code",
   "execution_count": 94,
   "id": "1e51d807",
   "metadata": {},
   "outputs": [
    {
     "name": "stdout",
     "output_type": "stream",
     "text": [
      "[[1 2 5]\n",
      " [3 4 6]]\n"
     ]
    }
   ],
   "source": [
    "print(np.column_stack((a,c)))"
   ]
  },
  {
   "cell_type": "code",
   "execution_count": 95,
   "id": "b95ecf74",
   "metadata": {},
   "outputs": [
    {
     "name": "stdout",
     "output_type": "stream",
     "text": [
      "[[1 2 5 6]\n",
      " [3 4 7 8]]\n"
     ]
    }
   ],
   "source": [
    "#concatenation method\n",
    "#concatenating to 2nd axis\n",
    "print(np.concatenate((a,b),1))"
   ]
  },
  {
   "cell_type": "markdown",
   "id": "103b1aea",
   "metadata": {},
   "source": [
    "# Splitting functions:-\n",
    " \n",
    " 1]np.hsplit = splits array along horizontal axis \n",
    " 2]np.vsplit = splits array along vertical axis\n",
    " 3]np.array_split = splits array along specified axis\n",
    " "
   ]
  },
  {
   "cell_type": "code",
   "execution_count": 96,
   "id": "b39e7d8f",
   "metadata": {},
   "outputs": [],
   "source": [
    " a = np.array([[1,3,5,7,9,11],\n",
    "              [2,4,6,8,10,12]])"
   ]
  },
  {
   "cell_type": "code",
   "execution_count": 97,
   "id": "19da75be",
   "metadata": {},
   "outputs": [
    {
     "name": "stdout",
     "output_type": "stream",
     "text": [
      "[array([[1, 3, 5],\n",
      "       [2, 4, 6]]), array([[ 7,  9, 11],\n",
      "       [ 8, 10, 12]])]\n"
     ]
    }
   ],
   "source": [
    "#horizontal splitting\n",
    "#splitting along horizontal axis into 2 parts.\n",
    "print(np.hsplit(a,2))"
   ]
  },
  {
   "cell_type": "code",
   "execution_count": 98,
   "id": "2dcc518e",
   "metadata": {},
   "outputs": [
    {
     "name": "stdout",
     "output_type": "stream",
     "text": [
      "[array([[ 1,  3,  5,  7,  9, 11]]), array([[ 2,  4,  6,  8, 10, 12]])]\n"
     ]
    }
   ],
   "source": [
    "#vertical splitting\n",
    "#splitting along vertical axis into 2 parts.\n",
    "print(np.vsplit(a,2))"
   ]
  },
  {
   "cell_type": "markdown",
   "id": "51f18d63",
   "metadata": {},
   "source": [
    "# Some more numpy functions:-\n",
    "                                                    min,max\n",
    "                                                    mean\n",
    "                                                    median\n",
    "                                                    average\n",
    "                                                    variance\n",
    "                                                    standard deviation\n",
    "                                                    "
   ]
  },
  {
   "cell_type": "code",
   "execution_count": 99,
   "id": "b12ff257",
   "metadata": {},
   "outputs": [],
   "source": [
    "a = np.array([[1,2,3,4],[5,6,7,8]])"
   ]
  },
  {
   "cell_type": "code",
   "execution_count": 100,
   "id": "a8f0c842",
   "metadata": {},
   "outputs": [
    {
     "name": "stdout",
     "output_type": "stream",
     "text": [
      "[[1 2 3 4]\n",
      " [5 6 7 8]]\n"
     ]
    }
   ],
   "source": [
    "print(a)"
   ]
  },
  {
   "cell_type": "code",
   "execution_count": 101,
   "id": "9915c877",
   "metadata": {},
   "outputs": [
    {
     "name": "stdout",
     "output_type": "stream",
     "text": [
      "1\n"
     ]
    }
   ],
   "source": [
    "print(np.min(a))"
   ]
  },
  {
   "cell_type": "code",
   "execution_count": 102,
   "id": "a50a5aeb",
   "metadata": {},
   "outputs": [
    {
     "name": "stdout",
     "output_type": "stream",
     "text": [
      "[1 2 3 4]\n"
     ]
    }
   ],
   "source": [
    "#specify axis for the direction in case of multidimensional array\n",
    "print(np.min(a,axis=0))"
   ]
  },
  {
   "cell_type": "code",
   "execution_count": 103,
   "id": "805fdd40",
   "metadata": {},
   "outputs": [
    {
     "name": "stdout",
     "output_type": "stream",
     "text": [
      "[1 5]\n"
     ]
    }
   ],
   "source": [
    "print(np.min(a,axis=1))"
   ]
  },
  {
   "cell_type": "code",
   "execution_count": 104,
   "id": "528efbc6",
   "metadata": {},
   "outputs": [],
   "source": [
    "b= np.array([1,2,3,4,5])"
   ]
  },
  {
   "cell_type": "code",
   "execution_count": 105,
   "id": "1003e1c9",
   "metadata": {},
   "outputs": [],
   "source": [
    "m= sum(b) / 5"
   ]
  },
  {
   "cell_type": "code",
   "execution_count": 106,
   "id": "ae317194",
   "metadata": {},
   "outputs": [
    {
     "name": "stdout",
     "output_type": "stream",
     "text": [
      "3.0\n"
     ]
    }
   ],
   "source": [
    "print(m)"
   ]
  },
  {
   "cell_type": "code",
   "execution_count": 107,
   "id": "e36ebb2c",
   "metadata": {},
   "outputs": [
    {
     "name": "stdout",
     "output_type": "stream",
     "text": [
      "3.0\n"
     ]
    }
   ],
   "source": [
    "print(np.mean(b))"
   ]
  },
  {
   "cell_type": "code",
   "execution_count": 111,
   "id": "e600b589",
   "metadata": {},
   "outputs": [
    {
     "name": "stdout",
     "output_type": "stream",
     "text": [
      "[3. 4. 5. 6.]\n"
     ]
    }
   ],
   "source": [
    "print(np.mean(a,axis=0))"
   ]
  },
  {
   "cell_type": "code",
   "execution_count": 109,
   "id": "c0917c9d",
   "metadata": {},
   "outputs": [
    {
     "name": "stdout",
     "output_type": "stream",
     "text": [
      "[2.5 6.5]\n"
     ]
    }
   ],
   "source": [
    "print(np.mean(a,axis=1))"
   ]
  },
  {
   "cell_type": "code",
   "execution_count": 112,
   "id": "43c237a0",
   "metadata": {},
   "outputs": [],
   "source": [
    "c = np.array([1,5,4,2,0])"
   ]
  },
  {
   "cell_type": "code",
   "execution_count": 113,
   "id": "da42f9a8",
   "metadata": {},
   "outputs": [
    {
     "name": "stdout",
     "output_type": "stream",
     "text": [
      "2.0\n"
     ]
    }
   ],
   "source": [
    "print(np.median(c))"
   ]
  },
  {
   "cell_type": "code",
   "execution_count": 114,
   "id": "fe2c71ea",
   "metadata": {},
   "outputs": [
    {
     "name": "stdout",
     "output_type": "stream",
     "text": [
      "2.4\n"
     ]
    }
   ],
   "source": [
    "print(np.mean(c))"
   ]
  },
  {
   "cell_type": "code",
   "execution_count": 115,
   "id": "7e902b72",
   "metadata": {},
   "outputs": [],
   "source": [
    "#weights\n",
    "#weighted mean = n1*w1 + n2*w2 /n1+n2\n",
    "w = np.array([1,1,1,1,1])"
   ]
  },
  {
   "cell_type": "code",
   "execution_count": 116,
   "id": "f20343e1",
   "metadata": {},
   "outputs": [
    {
     "name": "stdout",
     "output_type": "stream",
     "text": [
      "2.4\n"
     ]
    }
   ],
   "source": [
    "print(np.average(c,weights = w))"
   ]
  },
  {
   "cell_type": "code",
   "execution_count": 117,
   "id": "ae5f37d5",
   "metadata": {},
   "outputs": [
    {
     "name": "stdout",
     "output_type": "stream",
     "text": [
      "1.854723699099141\n"
     ]
    }
   ],
   "source": [
    "#standard deviation\n",
    "u = np.mean(c)\n",
    "myStd = np.sqrt(np.mean(abs(c-u)**2))\n",
    "print(myStd)"
   ]
  },
  {
   "cell_type": "code",
   "execution_count": 118,
   "id": "0dea653a",
   "metadata": {},
   "outputs": [
    {
     "name": "stdout",
     "output_type": "stream",
     "text": [
      "1.854723699099141\n"
     ]
    }
   ],
   "source": [
    "#inbuilt functions \n",
    "dev = np.std(c)\n",
    "print(dev)"
   ]
  },
  {
   "cell_type": "code",
   "execution_count": 119,
   "id": "5b28ddad",
   "metadata": {},
   "outputs": [
    {
     "name": "stdout",
     "output_type": "stream",
     "text": [
      "3.440000000000001\n",
      "3.4400000000000004\n"
     ]
    }
   ],
   "source": [
    "#variance\n",
    "print(myStd**2)\n",
    "print(np.var(c))"
   ]
  },
  {
   "cell_type": "markdown",
   "id": "96fa7c6c",
   "metadata": {},
   "source": [
    "# Numpy Random Module:-\n",
    "                                            rand= random values in a given shape\n",
    "                                            randn= Return a sample(or samples) from the \"standard normal\"  distribution.\n",
    "                                            randint= Return random integers  from low(inclusive) to high(inclusive)\n",
    "                                            random= Returns  random floats in the half-open interval(0.0,1.0)\n",
    "                                            choice= Generates a random sample from a given 1-D array\n",
    "                                            shuffle= shuffles the contents of  a sequence."
   ]
  },
  {
   "cell_type": "code",
   "execution_count": 120,
   "id": "1d024478",
   "metadata": {},
   "outputs": [
    {
     "name": "stdout",
     "output_type": "stream",
     "text": [
      "[ 5  6  7  8  9 10 11 12 13 14]\n"
     ]
    }
   ],
   "source": [
    "a = np.arange(10) + 5\n",
    "print(a)"
   ]
  },
  {
   "cell_type": "code",
   "execution_count": 121,
   "id": "472b9ed3",
   "metadata": {},
   "outputs": [
    {
     "name": "stdout",
     "output_type": "stream",
     "text": [
      "[ 7 14 11  9  5  8  6 12 13 10]\n"
     ]
    }
   ],
   "source": [
    "np.random.seed(1)\n",
    "np.random.shuffle(a)\n",
    "print(a)"
   ]
  },
  {
   "cell_type": "code",
   "execution_count": 122,
   "id": "f6d65788",
   "metadata": {},
   "outputs": [
    {
     "name": "stdout",
     "output_type": "stream",
     "text": [
      "[[ 1.5827523  -1.04514683  0.25759352]\n",
      " [-1.9593946  -1.50780766 -0.31529207]]\n"
     ]
    }
   ],
   "source": [
    "#returns a value from Standard normal distribution\n",
    "a = np.random.randn(2,3)\n",
    "print(a)"
   ]
  },
  {
   "cell_type": "code",
   "execution_count": 123,
   "id": "c93d3dc8",
   "metadata": {},
   "outputs": [
    {
     "name": "stdout",
     "output_type": "stream",
     "text": [
      "[7 9 6]\n"
     ]
    }
   ],
   "source": [
    "a = np.random.randint(5,10,3)\n",
    "print(a)"
   ]
  },
  {
   "cell_type": "code",
   "execution_count": 125,
   "id": "395384e2",
   "metadata": {},
   "outputs": [
    {
     "name": "stdout",
     "output_type": "stream",
     "text": [
      "4\n"
     ]
    }
   ],
   "source": [
    "#randomly picks one element from array\n",
    "element = np.random.choice([1,4,3,2,7,11,27])\n",
    "print(element)\n"
   ]
  },
  {
   "cell_type": "code",
   "execution_count": null,
   "id": "0a0dfd8f",
   "metadata": {},
   "outputs": [],
   "source": []
  }
 ],
 "metadata": {
  "kernelspec": {
   "display_name": "Python 3 (ipykernel)",
   "language": "python",
   "name": "python3"
  },
  "language_info": {
   "codemirror_mode": {
    "name": "ipython",
    "version": 3
   },
   "file_extension": ".py",
   "mimetype": "text/x-python",
   "name": "python",
   "nbconvert_exporter": "python",
   "pygments_lexer": "ipython3",
   "version": "3.9.13"
  }
 },
 "nbformat": 4,
 "nbformat_minor": 5
}
